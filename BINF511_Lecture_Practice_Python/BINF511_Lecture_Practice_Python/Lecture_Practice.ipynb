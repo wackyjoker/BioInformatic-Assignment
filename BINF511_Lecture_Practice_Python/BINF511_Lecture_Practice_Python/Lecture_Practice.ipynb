{
 "cells": [
  {
   "cell_type": "markdown",
   "metadata": {},
   "source": [
    "*__BINF621: Bioinformatics for Molecular Biology__*\n",
    "# Introduction to Python\n",
    "\n",
    "These exercises are meant to help you reinforce the python concepts you learned in the lecture.\n",
    "\n",
    "It consists of three parts. Part 1 is meant to be completed *individually*, for Parts 2 and 3 you can work in pairs. Each part should take you approximately __10 minutes__ to complete. Good luck! \n",
    "\n",
    "*If you still can't solve it by yourself, pay attention to class! You might need to review something!* __;)__   \n",
    "\n",
    "## Prologue: Using Jupyter notebooks\n",
    "\n",
    "This exercise requires you to use Jupyter notebooks. These notebooks include interactive python interpreters like the one below (the grey square fields with `In[]` at the left). \n",
    "\n",
    "Contrary to a *terminal* where code is interpreted immediately after you finish writing it, in this environment your code will only be interpreted when you click the \"play\" button in the toolbar above. This is useful because it lets you proofread your code before running it. It also avoids having to re-write commands every time you wish to run them.\n",
    "\n",
    "To try it out, complete the print statement below with so that it prints out `Hello world!` and click play. If you still have questions, raise your hand and I will help you as soon as possible. "
   ]
  },
  {
   "cell_type": "code",
   "execution_count": 2,
   "metadata": {},
   "outputs": [
    {
     "name": "stdout",
     "output_type": "stream",
     "text": [
      "Test pdf\n"
     ]
    }
   ],
   "source": [
    "print(\"Test pdf\") # Write Hello world! between the quotes and click Run."
   ]
  },
  {
   "cell_type": "markdown",
   "metadata": {},
   "source": [
    "## Practical 1: Strings and Files  (15 min)\n",
    "\n",
    "As you learned in the lecture, strings are extremely important for bioinformatics. First let's review some of the string operations we saw in the lecture. \n",
    "\n",
    "### Concatenation\n",
    "\n",
    "I have defined three string variables with upstream, downstream and the gene sequences. The example code prints out the following phrase: \n",
    "\n",
    "`My DNA sequence is`\n",
    "\n",
    "Complete the second `print()` statement so that prints out following: \n",
    "\n",
    "`The start codon is AUG`\n"
   ]
  },
  {
   "cell_type": "code",
   "execution_count": 2,
   "metadata": {
    "scrolled": true
   },
   "outputs": [
    {
     "name": "stdout",
     "output_type": "stream",
     "text": [
      "My DNA sequence is AACTGACGTAGCTAGCGTAT\n"
     ]
    }
   ],
   "source": [
    "upstream = 'AACTG'\n",
    "gene = 'ACGTAGCTAG'\n",
    "downstream = 'CGTAT'\n",
    "\n",
    "#Example: \n",
    "print()\n"
   ]
  },
  {
   "cell_type": "code",
   "execution_count": 2,
   "metadata": {},
   "outputs": [
    {
     "name": "stdout",
     "output_type": "stream",
     "text": [
      "The start codon i AUG\n"
     ]
    }
   ],
   "source": [
    "#Complete the following print() statement:\n",
    "start_codon = 'AUG'\n",
    "print()\n"
   ]
  },
  {
   "cell_type": "markdown",
   "metadata": {},
   "source": [
    "### String length and turning objects to strings\n",
    "\n",
    "Now, use *both* the `len()` and `str()` functions to complete the following `print()` statement so that it says: \n",
    "\n",
    "- `The length of my favorite sequence is 9` \n",
    "\n",
    "__Hint__: Use the example for `seq1` to guide your answer. "
   ]
  },
  {
   "cell_type": "code",
   "execution_count": 5,
   "metadata": {},
   "outputs": [
    {
     "name": "stdout",
     "output_type": "stream",
     "text": [
      "The length of the sequence is 55\n"
     ]
    }
   ],
   "source": [
    "seq1 = 'ACTGATCGATTACGTATAGTAGAATTCTATCATACATATATATCGATGCGTTCAT'\n",
    "\n",
    "# Example: \n",
    "print(\"The length of the sequence is \" + str(len(seq1))) # I use str() to convert the number into a string\n"
   ]
  },
  {
   "cell_type": "code",
   "execution_count": 4,
   "metadata": {},
   "outputs": [
    {
     "name": "stdout",
     "output_type": "stream",
     "text": [
      "The length of my favourite sequence is 9\n"
     ]
    }
   ],
   "source": [
    "# Complete the following print() statement:\n",
    "my_fave_seq = 'ATGACTTTA'\n",
    "print(\"The length of my favourite sequence is \" + )\n"
   ]
  },
  {
   "cell_type": "markdown",
   "metadata": {},
   "source": [
    "### Substrings\n",
    "\n",
    "Let us use what we learned of substrings in the lecture to manipulate an the amino acids of my favourite protein. \n",
    "\n",
    "Complete the following print statements using the appropriate substrings so that they say the following: \n",
    "\n",
    "- __Print statement 1:__ `The first three amino acids are vls`\n",
    "- __Print statement 2:__ `The last three amino acids are tnv`\n",
    "- __Print statement 3:__ `The first amino acid is v`\n",
    "- __Print statement 4:__ `The last amino acid is also v`\n",
    "\n",
    "__Hint:__ Use the example statement to guide your answers:\n",
    "\n",
    "- __Example statement:__ `The first codon is AUG`"
   ]
  },
  {
   "cell_type": "code",
   "execution_count": 4,
   "metadata": {},
   "outputs": [
    {
     "name": "stdout",
     "output_type": "stream",
     "text": [
      "The second amino asid it is l\n"
     ]
    }
   ],
   "source": [
    "my_fave_protein = 'vlspadktnv'\n",
    "\n",
    "# Example: \n",
    "print(\"The second amino asid it is \" + my_fave_protein[1]) # The second amino acid is l\n"
   ]
  },
  {
   "cell_type": "code",
   "execution_count": 16,
   "metadata": {},
   "outputs": [
    {
     "name": "stdout",
     "output_type": "stream",
     "text": [
      "The first three amino acids are vls\n",
      "The last three amino acids are tnv\n",
      "The first amino acid is tn\n",
      "The last amino acid is also d\n"
     ]
    }
   ],
   "source": [
    "# Complete the following print() statements:\n",
    "\n",
    "print(\"The first three amino acids are \" + my_fave_protein[0:3])\n",
    "print(\"The last three amino acids are \" + my_fave_protein[-3:])\n",
    "print(\"The first amino acid is \" + my_fave_protein[-3:-1])\n",
    "print(\"The last amino acid is also \" + \"d\") # The index of the *last* character in a string is always -1\n"
   ]
  },
  {
   "cell_type": "markdown",
   "metadata": {},
   "source": [
    "### Other useful string methods\n",
    "\n",
    "Strings have many useful methods for bioinformatics. Here are some that you might want to learn how to use and practice:\n",
    "\n",
    "- __`.lower()`:__ Turns all uppercase characters in a string into lowercase. No arguments required. \n",
    "- __`.upper()`:__ Turns all lowercase characters in a string into uppercase. No arguments required. \n",
    "- __`.replace()`:__ Substitutes one substring for another. Requires two arguments. \n",
    "    - The first argument is the pattern to be replaced. \n",
    "    - The second argument is the pattern that will be put in place of the first. \n",
    "- __`.count()`:__ Counts the number of times a substring appears in the whole string. Requires one argument.\n",
    "    - The first argument is the pattern to be counted. \n",
    "    - Returns an *integer*\n",
    "- __`.find()`:__ Returns the position of the __first__ time a substring appears within a string. Requires one argument.\n",
    "    - The first argument is the pattern to be found. \n",
    "    - Returns an *integer*\n",
    "    - If the pattern isn't found, returns `-1`\n",
    "\n",
    "Use the next cell to see how these methods work. You don't need to complete any code, just run the program and see if you understand the results. \n",
    "\n",
    "Once you understand, you can manipulate the methods to get different results."
   ]
  },
  {
   "cell_type": "code",
   "execution_count": 1,
   "metadata": {},
   "outputs": [
    {
     "name": "stdout",
     "output_type": "stream",
     "text": [
      "This is the result of the lower() function: atgacttta\n",
      "This is the result of the upper() function: ATGACTTTA\n",
      "\n",
      "My favorite RNA sequence is: AUGACUUUA\n",
      "My favorite peptide is: MTL\n",
      "\n",
      "My favorite sequence has 3 adenines, 4 thymines, 1 guanines, and 1 cytosines!\n",
      "\n",
      "The first guanine in my sequence is in position 2.\n",
      "\n",
      "There are no uracyls, that is why the find() function returns: -1\n"
     ]
    }
   ],
   "source": [
    "my_fave_protein = 'vlspadktnv'\n",
    "\n",
    "# How to use the .lower() and .upper() methods\n",
    "my_fave_protein_lower = my_fave_protein.lower()\n",
    "my_fave_protein_upper = my_fave_protein_lower.upper()\n",
    "\n",
    "# How to use the .replace() method\n",
    "my_fave_aminoacid = my_fave_protein.replace('p','w')\n",
    "my_fave_dna_seq = my_fave_protein.replace('v','GTG').replace('l','CTG').replace('s','AGC').replace('p','CCC').replace('a', 'GCC').replace('d', 'GAC').replace('k', \"AAG\").replace(\"t\", \"ACC\").replace('n', 'AAC').replace('v', 'GTG') # We can nest methods! \n",
    " \n",
    "# How to use the .count() method\n",
    "adenines,thymines = my_fave_dna_seq.count('A'), mmy_fave_dna_seq.count('T') # We can define several variables at once! \n",
    "guanines,cytosines = my_fave_dna_seq.count('G'), my_fave_dna_seq.count('C')\n",
    "\n",
    "# How to use the .find() method\n",
    "first_guanine,first_uracyl = my_fave_dna_seq.find('G'), my_fave_dna_seq.find('U')\n",
    "\n",
    "# Now lets print everything to see the results! \n",
    "print('This is the result of the lower() function: ' + )\n",
    "print('This is the result of the upper() function: ' + )\n",
    "print('My favorite DNA sequence is: ' + )\n",
    "print('My favorite peptide is: ' + )\n",
    "print('My favorite sequence has ' +)\n",
    "print('The first guanine in my sequence is in position ' + )\n",
    "print('There are no uracyls, that is why the find() function returns: ' + )\n"
   ]
  },
  {
   "cell_type": "markdown",
   "metadata": {},
   "source": [
    "Result:"
   ]
  },
  {
   "cell_type": "markdown",
   "metadata": {},
   "source": [
    "\n",
    "Now let us review the functions and methods that let us read and write files in python. \n",
    "\n",
    "### Opening files for reading\n",
    "\n",
    "All file operations begin with the `open()` function. \n",
    "\n",
    "Complete the following code to do the following:\n",
    "\n",
    "- Create a variable called __`seq_file`__ that contains a file object with __`Supp-Files/Sequece_file.fas`__ in the __read__ mode. \n",
    "\n",
    "After you do that, run the cell to see how the rest of the code does the following: \n",
    "\n",
    "- Use `print` function and the `.read()` method to print out the contents of the file.\n",
    "- Close the file using the `.close()` method. "
   ]
  },
  {
   "cell_type": "code",
   "execution_count": 27,
   "metadata": {
    "scrolled": false
   },
   "outputs": [
    {
     "name": "stdout",
     "output_type": "stream",
     "text": [
      ">gi|51853372|gb|BV164695.1| CysPr1-D8 CysPr1 fragment amplified from Lens culinaris Lens culinaris STS genomic, sequence tagged site\n",
      "CTTATTTCTTCTTAGTGGGATAAGAAGCCATCTTGTAGAGTCCACAAATCCCTTCAGCTTTTCCAGTGTT\n",
      "TCTCTTCATCCTTATAAATCCTTTCTCTCCCCATTTTGCCCCCCATGAATTCTTCACTGTGATATAATCC\n",
      "AAGCCTTTTGCTGTTCCATATCCAACAGCTGCCACACCATGA\n",
      "\n"
     ]
    }
   ],
   "source": [
    "# Complete the following statement to create a file object: \n",
    "seq_file = open()\n",
    "\n",
    "# DON'T COMPLETE THE FOLLOWING CODE\n",
    "# This print statement to prints out the contents of the file object:\n",
    "print()\n",
    "\n",
    "# This statement closes the file using the close method:\n",
    "\n"
   ]
  },
  {
   "cell_type": "markdown",
   "metadata": {},
   "source": [
    "### Opening files for writing and appending\n",
    "\n",
    "We will now practice the different ways of writing into files. \n",
    "\n",
    "First, check the contents of `Write_file.txt` and `Append_file.txt` using the file browser.\n",
    "\n",
    "Using the `open()` function, complete the code to do the following:\n",
    "- Create a variable called __`write_file`__ that contains a file object with __`Supp-Files/Write_file.txt`__ in __write__ mode. \n",
    "- Create a variable called __`append_file`__ that contains a file object with __`Supp-Files/Append_file.txt`__ in __append__ mode. \n",
    "\n",
    "After this, the rest of the code will:\n",
    "- Add the contents of the __`test_text`__ variable to both file objects. \n",
    "- Use the `.close()` method on both file objects to close them. \n",
    "\n",
    "Check the contents of `Write_file.txt` and `Append_file.txt` using the file browser and read the text to verify your code worked correctly. "
   ]
  },
  {
   "cell_type": "code",
   "execution_count": 2,
   "metadata": {},
   "outputs": [
    {
     "ename": "TypeError",
     "evalue": "open() missing required argument 'file' (pos 1)",
     "output_type": "error",
     "traceback": [
      "\u001b[1;31m---------------------------------------------------------------------------\u001b[0m",
      "\u001b[1;31mTypeError\u001b[0m                                 Traceback (most recent call last)",
      "\u001b[1;32m<ipython-input-2-7b74b73e5966>\u001b[0m in \u001b[0;36m<module>\u001b[1;34m\u001b[0m\n\u001b[0;32m      5\u001b[0m \u001b[1;33m\u001b[0m\u001b[0m\n\u001b[0;32m      6\u001b[0m \u001b[1;31m# Complete the following statement to create a file object in the append mode:\u001b[0m\u001b[1;33m\u001b[0m\u001b[1;33m\u001b[0m\u001b[1;33m\u001b[0m\u001b[0m\n\u001b[1;32m----> 7\u001b[1;33m \u001b[0mappend_file\u001b[0m \u001b[1;33m=\u001b[0m \u001b[0mopen\u001b[0m\u001b[1;33m(\u001b[0m\u001b[1;33m)\u001b[0m\u001b[1;33m\u001b[0m\u001b[1;33m\u001b[0m\u001b[0m\n\u001b[0m\u001b[0;32m      8\u001b[0m \u001b[1;33m\u001b[0m\u001b[0m\n\u001b[0;32m      9\u001b[0m \u001b[1;31m# DON'T COMPLETE THE FOLLOWING CODE\u001b[0m\u001b[1;33m\u001b[0m\u001b[1;33m\u001b[0m\u001b[1;33m\u001b[0m\u001b[0m\n",
      "\u001b[1;31mTypeError\u001b[0m: open() missing required argument 'file' (pos 1)"
     ]
    }
   ],
   "source": [
    "test_text = '\\nThis text is meant to verify you successfully wrote to the files.\\nIt should now appear both of your files.'\n",
    "\n",
    "# Complete the following statement to create a file object in the write mode:\n",
    "write_file = open(\"Supp-Files/Sequence_file.fas\", \"r\")\n",
    "\n",
    "# Complete the following statement to create a file object in the append mode:\n",
    "append_file = open()\n",
    "\n",
    "# DON'T COMPLETE THE FOLLOWING CODE\n",
    "# These two statements write into both file objects:\n",
    "write_file.write()\n",
    "append_file.write()\n",
    "\n",
    "# Close both files using the close method:\n",
    "write_file.close()\n",
    "append_file.close()"
   ]
  },
  {
   "cell_type": "markdown",
   "metadata": {},
   "source": [
    "Result:"
   ]
  },
  {
   "cell_type": "markdown",
   "metadata": {},
   "source": [
    "## Practical 2: Lists and loops (10 min)\n",
    "\n",
    "In pairs, we will practice using lists and looping through them. Both skills are very useful in bioinformatics. \n",
    "\n",
    "### Working with lists\n",
    "\n",
    "First, we will practice creating lists and adding elements to lists:\n",
    "\n",
    "- Create a variable called `plant_species` containing the following elements: \n",
    "    - `\"Arabidopsis thaliana\"`\n",
    "    - `\"Zea mays\"`\n",
    "    - `\"Triticum turgidum\"`\n",
    "- Complete the first print statement using the `len()` and `str()` functions to say the following: `I have 3 plant species`\n",
    "- Add a fourth plant species (`Solanum tuberosum`) to the list using the `.append()` method. \n",
    "\n",
    "Lists have useful methods that give us a lot of flexibility when working with them. \n",
    "\n",
    "One useful method is the `.index()`, which takes one argument and returns the __index number__ (as an `int`) of a list element that *matches* the argument. \n",
    "\n",
    "Other useful methods are: `.reverse()` which inverts the order of list elements, and `.sort()` that rearranges list elements in alphabetical order. Neither of these methods take any arguments.\n",
    "\n",
    "The example code will show you how to use these methods, make sure you both understand how they work: \n",
    "\n",
    "- Using the `.index()` method as a __nested command__, the code replaces the list element `\"Triticum turgidum\"` with `\"Triticum aestivum\"`\n",
    "- Using the `.reverse()` method, the order of list elements is reversed. \n",
    "- Using the `.sort()` method, the list is sorted in alphabetical order.\n",
    " "
   ]
  },
  {
   "cell_type": "code",
   "execution_count": 11,
   "metadata": {},
   "outputs": [
    {
     "data": {
      "text/plain": [
       "[True, False, False]"
      ]
     },
     "execution_count": 11,
     "metadata": {},
     "output_type": "execute_result"
    }
   ],
   "source": [
    "# Create a variable called plant_species with three elements\n",
    "plant_species = [\"a\", \"b\", \"c\"]\n",
    "\n",
    "def function(list):\n",
    "    result=[]\n",
    "    for species in list:\n",
    "        if species == \"a\":\n",
    "            result.append(True)\n",
    "        else:\n",
    "            result.append(False)\n",
    "    return result\n",
    "function(plant_species)\n"
   ]
  },
  {
   "cell_type": "markdown",
   "metadata": {},
   "source": [
    "Result:"
   ]
  },
  {
   "cell_type": "markdown",
   "metadata": {},
   "source": [
    "### Looping through lists\n",
    "\n",
    "Loops are powerful tools that let us go through any *iterable* object type (which include lists, strings, and `r` mode files). They can greatly reduce the amount of code we need to write and therefore, it is important to learn how to use them appropriately. \n",
    "\n",
    "Before practicing how to use a loop, we will learn how to use two important string methods we haven't used before. You don't need to complete any code for this first part, just go through the code and understand how these two methods work. \n",
    "\n",
    "- The `.rstrip()` method removes any leading (first in line) and trailing (last in line) characters given as arguemtns. If left empty, it removes space characters.\n",
    "- The `.split()` method is used on `str` type objects and it returns a list of strings by separating the original string everytime the argument character appears. If left empty, it defaults to space characters. \n",
    "\n",
    "Now that we have created our list of strings, we will loop through it to create some useful `print` statements. \n",
    "\n",
    "- Complete the loop statement so that it loops through the list `gff_fields`. \n",
    "- For every element in the list, create a variable called `field_value` that contains a list of strings created by using the `.split()` method with the character `'='` as argument. \n",
    "- Print a statement that says `The entry's #0 is #1`, where `#0` corresponds to the first element of `field_value` and `#1` corresponds to the second element. \n"
   ]
  },
  {
   "cell_type": "code",
   "execution_count": 36,
   "metadata": {},
   "outputs": [
    {
     "name": "stdout",
     "output_type": "stream",
     "text": [
      "ID=gene1;Dbxref=GeneID:107059702;Name=LOC107059702;gbkey=Gene;gene=LOC107059702;gene_biotype=protein_coding\n",
      "gff_line has a newline, this is why this appears in a separate line. \n",
      "\n",
      "ID=gene1;Dbxref=GeneID:107059702;Name=LOC107059702;gbkey=Gene;gene=LOC107059702;gene_biotype=protein_coding gff_line does not have a newline anymore. \n",
      "\n",
      "['ID=gene1', 'Dbxref=GeneID:107059702', 'Name=LOC107059702', 'gbkey=Gene', 'gene=LOC107059702', 'gene_biotype=protein_coding']\n"
     ]
    }
   ],
   "source": [
    "gff_line = 'ID=gene1;Dbxref=GeneID:107059702;Name=LOC107059702;gbkey=Gene;gene=LOC107059702;gene_biotype=protein_coding\\n'\n",
    "print(gff_line + 'gff_line has a newline, this is why this appears in a separate line. \\n')\n",
    "\n",
    "# DON'T COMPLETE THE FOLLOWING CODE\n",
    "# This code will remove the newline character at the end of the gff_line string\n",
    "gff_line = gff_line.strip('\\n')\n",
    "print(gff_line + ' gff_line does not have a newline anymore. \\n')\n",
    "\n",
    "# This code will create a list of strings based on the values separated by semicolons\n",
    "gff_fields = gff_line.split(';')\n",
    "print(gff_fields)\n"
   ]
  },
  {
   "cell_type": "markdown",
   "metadata": {},
   "source": [
    "Result:"
   ]
  },
  {
   "cell_type": "code",
   "execution_count": 48,
   "metadata": {},
   "outputs": [
    {
     "name": "stdout",
     "output_type": "stream",
     "text": [
      "\n",
      "The the entry's ID is gene1.\n",
      "\n",
      "The the entry's Dbxref is GeneID:107059702.\n",
      "\n",
      "The the entry's Name is LOC107059702.\n",
      "\n",
      "The the entry's gbkey is Gene.\n",
      "\n",
      "The the entry's gene is LOC107059702.\n",
      "\n",
      "The the entry's gene_biotype is protein_coding.\n"
     ]
    }
   ],
   "source": [
    "#gff_line = 'ID=gene1;Dbxref=GeneID:107059702;Name=LOC107059702;gbkey=Gene;gene=LOC107059702;gene_biotype=protein_coding\\n'\n",
    "#gff_line = gff_line.strip('\\n') # strip it so all the new line symbols will be removed\n",
    "#gff_fields = gff_line.split(';')\n",
    "\n",
    "# Complete the following code to create a `for` loop\n",
    "for item in gff_fields:\n",
    "    field_value = item.split('=')\n",
    "    print(\"\\nThe the entry's \" + field_value[0] + ' is ' + field_value[1] + '.')\n",
    "    #print(field_value[0])"
   ]
  },
  {
   "cell_type": "markdown",
   "metadata": {},
   "source": [
    "Result:"
   ]
  },
  {
   "cell_type": "markdown",
   "metadata": {},
   "source": [
    "## Practical 3: Functions and Conditional Statements (10 min)\n",
    "\n",
    "When writing funcitons (and scripts in general), it is useful to think about the inputs and outputs of the program before writing any code. First, think about the information that is currently available? This data will most likely serve as the input for your program. In the case of python functions, the inputs are called arguments and they are defined inside the parentheses of the `def` statement.  \n",
    "\n",
    "What information do you need to produce? The answer to this question will let you define the output of a program. Try to be specific about your requirements; usually if you have a clear idea about what results you need, the path will be self-evident and easier to code. \n",
    "\n",
    "Once you know the inputs and outputs of your function, think of a step-by-step strategy to accomplish your goal. Start to code each step sequentially. Before moving to the next step, use `print` statements to test the current code is working appropriately. This way, you will be able to find errors soon, as opposed to waiting until the end and then being unable to trace back the root of the problem. \n",
    "\n",
    "The code below is for a simple function called `parse_gff`, it is a simple function meant to help with the parsing of gff files. For this practical you don't need to write any code, read the example below, think about the following questions, and discuss them with your partner. Feel free to modify the code in any way and run it again to see the changes in the result. This will help you understand what the code is doing. \n",
    "\n",
    "- What does the function take as input? (i.e. what are the arguments)\n",
    "- What does the function return as output? (i.e. what is the return statement)\n",
    "- What does the `out_list` variable represent?\n",
    "- What does the `if` statement accomplish?\n",
    "\n",
    "In the end, there is a `print` statement that runs the function with the argument `Supp-Files/SolTub_Annot_Example.gff`, which is a file containing the first lines of the actual annotations of the Potato Reference Genome. \n",
    "\n",
    "To understand the content of gff files, check the following website: [Genomic Feature Format v3 - GFF3](http://www.sequenceontology.org/gff3.shtml); pay close attention to the meanings of the columns and think of the following: \n",
    "\n",
    "- How could this result be useful? "
   ]
  },
  {
   "cell_type": "code",
   "execution_count": 49,
   "metadata": {},
   "outputs": [
    {
     "name": "stdout",
     "output_type": "stream",
     "text": [
      "['region', 1, 7090834, '+', 'ID=id0;Dbxref=taxon:4113;Name=Unknown;chromosome=Unknown;cultivar=DM 1-3 516 R44;gbkey=Src;genome=genomic;mol_type=genomic DNA']\n"
     ]
    }
   ],
   "source": [
    "def parse_gff(file_name):\n",
    "    out_list = []\n",
    "    open_file = open(file_name,'r')\n",
    "    for line in open_file:\n",
    "        if line[0] == '#':\n",
    "            pass\n",
    "        else:\n",
    "            line_elements = line.rstrip('\\n').split('\\t')\n",
    "            line_info = [line_elements[2],int(line_elements[3]),int(line_elements[4]),line_elements[6],line_elements[-1]]\n",
    "            out_list.append(line_info)\n",
    "    open_file.close()\n",
    "    return out_list\n",
    "\n",
    "print(parse_gff('Supp-Files/SolTub_Annot_Example.gff')[0])    "
   ]
  },
  {
   "cell_type": "markdown",
   "metadata": {},
   "source": []
  },
  {
   "cell_type": "code",
   "execution_count": 51,
   "metadata": {
    "collapsed": true
   },
   "outputs": [],
   "source": [
    "### DON'T TOUCH THIS CODE, YOU WILL NEED IT TO SOLVE THE PROBLEM \n",
    "\n",
    "def parse_gff(file_name):\n",
    "    out_list = []\n",
    "    open_file = open(file_name,'r')\n",
    "    for line in open_file:\n",
    "        if line[0] == '#':\n",
    "            pass\n",
    "        else:\n",
    "            line_elements = line.rstrip('\\n').split('\\t')\n",
    "            line_info = [line_elements[2],int(line_elements[3]),int(line_elements[4]),line_elements[6],line_elements[-1]]\n",
    "            out_list.append(line_info)\n",
    "    open_file.close()\n",
    "    return out_list\n",
    "\n",
    "### BEGIN WRITING YOUR PROGRAM HERE\n",
    "\n"
   ]
  },
  {
   "cell_type": "code",
   "execution_count": null,
   "metadata": {
    "collapsed": true
   },
   "outputs": [],
   "source": []
  },
  {
   "cell_type": "code",
   "execution_count": null,
   "metadata": {
    "collapsed": true
   },
   "outputs": [],
   "source": []
  }
 ],
 "metadata": {
  "anaconda-cloud": {},
  "kernelspec": {
   "display_name": "Python 3",
   "language": "python",
   "name": "python3"
  },
  "language_info": {
   "codemirror_mode": {
    "name": "ipython",
    "version": 3
   },
   "file_extension": ".py",
   "mimetype": "text/x-python",
   "name": "python",
   "nbconvert_exporter": "python",
   "pygments_lexer": "ipython3",
   "version": "3.8.5"
  }
 },
 "nbformat": 4,
 "nbformat_minor": 1
}
