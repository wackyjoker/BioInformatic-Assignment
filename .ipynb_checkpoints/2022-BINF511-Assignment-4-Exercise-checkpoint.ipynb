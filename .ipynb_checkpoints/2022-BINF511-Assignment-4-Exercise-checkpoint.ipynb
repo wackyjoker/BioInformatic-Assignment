{
 "cells": [
  {
   "cell_type": "markdown",
   "metadata": {},
   "source": [
    "# BINF511 Python Assignment\n",
    "\n",
    "This assignment is designed to test your understanding of the python concepts you learned in class. \n",
    "\n",
    "It is meant to be completed *individually* will be graded. \n",
    "\n",
    "Complete the exercises below and press the play button to execute the code. After completing each part press **Save** button to save the output. The assignment will be graded based on the output of your programs, there are a total of 20 points available. \n",
    "\n",
    "When you have completed the whole assignment click **File > Download as > IPython (.ipynb)** (DO NOT forget to include your name to the name of the file) and upload to myCourses."
   ]
  },
  {
   "cell_type": "markdown",
   "metadata": {},
   "source": [
    "## Part 1 : Strings and variable assignment\n",
    "### *2 points total*\n",
    "\n",
    "Assign the values below to variables and __print__ them: \n",
    "\n",
    "- Your complete name. [_1/4 points_]\n",
    "- Your McGill ID number (as an `int`). [_1/4 points_]\n",
    "- The scientific name of your favorite species. [_1/4 points_]\n",
    "- Your height in meters (as a `float`). [_1/4 points_]\n",
    "- Print *just* your last name using sub-strings and the original name variable you just defined above. [_1 point_]\n"
   ]
  },
  {
   "cell_type": "code",
   "execution_count": null,
   "metadata": {},
   "outputs": [],
   "source": [
    "# Enter the code for part 1 below\n"
   ]
  },
  {
   "cell_type": "markdown",
   "metadata": {},
   "source": [
    "## Part 2: Opening files\n",
    "### *3 points total*\n",
    "\n",
    "**Make sure you have downloaded the `Exercise-file.txt` from the *MyCourses* portal and that you have it saved in the same directory as this notebook.** Then do the following: \n",
    "\n",
    "- Create a variable containing `Exercise-file.txt` as a file object in `r` mode using the `open()` funciton. [_1 point_]\n",
    "- Using the `.read()` method, `print` the contents of the file. [_1 point_]\n",
    "- Close the file object using the `.close()` method. [_1 point_]\n"
   ]
  },
  {
   "cell_type": "code",
   "execution_count": null,
   "metadata": {},
   "outputs": [],
   "source": [
    "# Enter the code for part 2 below\n"
   ]
  },
  {
   "cell_type": "markdown",
   "metadata": {},
   "source": [
    "## Part 3: Lists and sub-lists\n",
    "### *4 points total* \n",
    "\n",
    "Create the following lists: \n",
    "\n",
    "- A list called `positive` with the following strings: `R`, `H`, `K`. [_1/5 points_]\n",
    "- A list called `negative` with the following strings: `D`, `E`. [_1/5 points_]\n",
    "- A list called `polar` with the following strings: `S`, `T`, `N`, `Q`. [_1/5 points_]\n",
    "- A list called `hydrophobic` with the following strings: `A`, `V`, `I`, `L`, `M`, `F`, `Y`, `W`. [_1/5 points_]\n",
    "- A list called `other` with the following strings: `C`, `U`, `G`, `P`. [_1/5 points_]\n",
    "- A list called `amino_acids` containing the previous 5 lists as elements (this is a list of lists). [_1 point_] \n",
    "- Print the complete `amino_acids` list and use the `len()` function to also print its length. [_1 point_]\n",
    "- Print only the charged amino acids lists (`positive` and `negative`) by creating a sub-list of `amino_acids`. [_1 point_]\n"
   ]
  },
  {
   "cell_type": "code",
   "execution_count": null,
   "metadata": {},
   "outputs": [],
   "source": [
    "# Enter the code for part 3 below\n"
   ]
  },
  {
   "cell_type": "markdown",
   "metadata": {},
   "source": [
    "## Part 4: Loops\n",
    "### *2 points total*\n",
    "\n",
    "**After running the previous cell** use a `for` loop to: \n",
    "\n",
    "- Loop through the elements of the `hydrophobic` list. \n",
    "- Print the following phrase: **`@ is the one-letter symbol of a hydrophobic amino acid.`**\n",
    "    - Where `@` corresponds to each list element. [_2 points_]\n",
    "\n"
   ]
  },
  {
   "cell_type": "code",
   "execution_count": null,
   "metadata": {},
   "outputs": [],
   "source": [
    "# Enter the code for part 4 below\n"
   ]
  },
  {
   "cell_type": "markdown",
   "metadata": {},
   "source": [
    "## Part 5: Functions\n",
    "### *2 points total*\n",
    "\n",
    "Define a new function that called **`dna2rna()`**. The function should take a string as an argument and do the following: \n",
    "\n",
    "- Using the `.replace()` method, replace every `T` with a `U`. [_1 point_]\n",
    "    - *Check the first practical seen in class to remember how to use the `.replace()` method *\n",
    "- Return the new string. [_1 point_]\n",
    "\n",
    "Use the **`DNA_sequence`** variable below and a print statement to show your function works as expected. \n",
    "\n",
    "**Important note**: The function should just **`return`** the new string, the function **should not** print the string by itself. "
   ]
  },
  {
   "cell_type": "code",
   "execution_count": null,
   "metadata": {},
   "outputs": [],
   "source": [
    "DNA_sequence = \"ACTCGATCCAAATACTGCACAGAAACCTCCGGTGTCCACGGTGACTCACCCTATGGTTCGGGTACCATGG\"\n",
    "\n",
    "# Enter the code for part 5 below\n",
    "def dna2rna(seq):\n",
    "    "
   ]
  },
  {
   "cell_type": "markdown",
   "metadata": {},
   "source": [
    "## Part 6: Conditional tests\n",
    "### *7 points total*\n",
    "\n",
    "Now, lets put it all together. Define a function called `nuc_ac_check` that takes a single string as an argument. Using `if/elif/else` statements as well as the boolean operators `and/or/not`, write code so your function performs the following checks: \n",
    "\n",
    "- Turn the input string to uppercase using the `.upper()` method. [*1 point*]\n",
    "- If the string contains any character that **is not** `A`,`C`,`G`,`T` or `U`; `return` the string **`not an unambiguous nucleic acid`**. [*2 points*]\n",
    "- If the string contains *exclusively* the characters `A`,`C`,`G`, and `U`; `return` the string **`RNA`**. [*2 points*]\n",
    "- If the string contains *exclusively* the characters `A`,`C`,`G`, and `T`; `return` the string **`DNA`**. [*2 points*]\n",
    "\n",
    "Assume that no input strings will contain numbers or special characters (including whitespaces). Remember, your function should **`return`** the strings, not print them. \n",
    "\n",
    "**Tips:**\n",
    "\n",
    "- Be careful when programming your function, the order of the steps is very important for this function to work properly. \n",
    "- Remember you can loop through strings. Can you think of a useful string to loop through that will help you quickly check all the invalid characters? \n",
    "- Use the print statements in the bottom of the cell to check if your function is working as expected. "
   ]
  },
  {
   "cell_type": "code",
   "execution_count": null,
   "metadata": {},
   "outputs": [],
   "source": [
    "# Enter the code for part 6 below\n",
    "def nuc_ac_check(string):\n",
    "\n",
    "    return \"not an unabmiguous nucleic acid\"\n",
    "    \n",
    "    return \"RNA\"\n",
    "\n",
    "    return \"DNA\"\n",
    "\n",
    "# DON'T MODIFY THE FOLLOWING CODE, JUST USE IT TO CHECK YOUR FUNCTION\n",
    "RNA_sequence = \"GGUACGGCUUGGUAUCCCACUCAGUGGCACCUGUGGCCUCCAAAGACACGUCAUAAACCUAGCUCA\"\n",
    "peptide_sequence = 'acdttayvrppnmkhgfeddvrqpnac'\n",
    "DNA_sequence = \"actcgatactgcacagaaacctccggtgtctcaccctatggttcgggtcatgg\"\n",
    "\n",
    "print('The RNA_sequence variable is: ' + nuc_ac_check(RNA_sequence))\n",
    "print('The peptide_sequence variable is: ' + nuc_ac_check(peptide_sequence))\n",
    "print('The DNA_sequence variable is: ' + nuc_ac_check(DNA_sequence))"
   ]
  }
 ],
 "metadata": {
  "anaconda-cloud": {},
  "kernelspec": {
   "display_name": "Python 3",
   "language": "python",
   "name": "python3"
  },
  "language_info": {
   "codemirror_mode": {
    "name": "ipython",
    "version": 3
   },
   "file_extension": ".py",
   "mimetype": "text/x-python",
   "name": "python",
   "nbconvert_exporter": "python",
   "pygments_lexer": "ipython3",
   "version": "3.8.5"
  }
 },
 "nbformat": 4,
 "nbformat_minor": 1
}
